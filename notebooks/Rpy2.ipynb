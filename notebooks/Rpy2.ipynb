{
 "cells": [
  {
   "cell_type": "markdown",
   "metadata": {},
   "source": [
    "## Rpy2\n",
    "\n",
    "Rpy2 is a python package that can be used to interface with R. In your projects you may face situations (depending on your fluency with python) where an R function seems like a better way of doing things. The following tutorial will provide some illustrative examples. "
   ]
  },
  {
   "cell_type": "code",
   "execution_count": 8,
   "metadata": {
    "collapsed": false
   },
   "outputs": [],
   "source": [
    "import rpy2.robjects as robjects"
   ]
  },
  {
   "cell_type": "markdown",
   "metadata": {},
   "source": [
    "### R objects\n",
    "_robjects_ is a high-level interface that tries to hide R behind a Python-like behavior. This will be your go to command for working with R in python."
   ]
  },
  {
   "cell_type": "markdown",
   "metadata": {},
   "source": [
    "## R packages\n",
    "### Check for and install package names"
   ]
  },
  {
   "cell_type": "code",
   "execution_count": 1,
   "metadata": {
    "collapsed": false
   },
   "outputs": [
    {
     "name": "stdout",
     "output_type": "stream",
     "text": [
      "False\n"
     ]
    }
   ],
   "source": [
    "# R package names\n",
    "packnames = ('ggplot2', 'hexbin', 'dplyr ')\n",
    "\n",
    "# import rpy2's package module\n",
    "import rpy2.robjects.packages as rpackages\n",
    "\n",
    "if all(rpackages.isinstalled(x) for x in packnames):\n",
    "    have_tutorial_packages = True\n",
    "else:\n",
    "    have_tutorial_packages = False\n",
    "    \n",
    "print(have_tutorial_packages)"
   ]
  },
  {
   "cell_type": "markdown",
   "metadata": {},
   "source": [
    "Downloading and installing R packages is usually performed by fetching R packages from a package repository and installing them locally. "
   ]
  },
  {
   "cell_type": "code",
   "execution_count": 2,
   "metadata": {
    "collapsed": false
   },
   "outputs": [],
   "source": [
    "if not have_tutorial_packages:\n",
    "    # import R's utility package\n",
    "    utils = rpackages.importr('utils')\n",
    "    # select a mirror for R packages\n",
    "    utils.chooseCRANmirror(ind=1) # select the first mirror in the list\n"
   ]
  },
  {
   "cell_type": "markdown",
   "metadata": {},
   "source": [
    "Now to install packages using R’s own function _install.package_:"
   ]
  },
  {
   "cell_type": "code",
   "execution_count": 9,
   "metadata": {
    "collapsed": false
   },
   "outputs": [
    {
     "name": "stderr",
     "output_type": "stream",
     "text": [
      "/usr/local/lib/python3.5/dist-packages/rpy2/robjects/functions.py:106: UserWarning: Installing package into ‘/home/rishabh/R/x86_64-pc-linux-gnu-library/3.3’\n",
      "(as ‘lib’ is unspecified)\n",
      "\n",
      "  res = super(Function, self).__call__(*new_args, **new_kwargs)\n"
     ]
    }
   ],
   "source": [
    "if not have_tutorial_packages:\n",
    "    # R vector of strings\n",
    "    from rpy2.robjects.vectors import StrVector\n",
    "    # file\n",
    "    packnames_to_install = [x for x in packnames if not rpackages.isinstalled(x)]\n",
    "    if len(packnames_to_install) > 0:\n",
    "        utils.install_packages(StrVector(packnames_to_install))"
   ]
  },
  {
   "cell_type": "markdown",
   "metadata": {},
   "source": [
    "## Communicate with R\n",
    "### The _r_ instance\n",
    "\n",
    "_r_ is a little like a communication channel from Python to R."
   ]
  },
  {
   "cell_type": "markdown",
   "metadata": {},
   "source": [
    "### Getting R objects"
   ]
  },
  {
   "cell_type": "code",
   "execution_count": 6,
   "metadata": {
    "collapsed": false
   },
   "outputs": [
    {
     "name": "stderr",
     "output_type": "stream",
     "text": [
      "ERROR: Cell magic `%%R` not found.\n"
     ]
    }
   ],
   "source": [
    "%%R\n",
    "pi"
   ]
  },
  {
   "cell_type": "code",
   "execution_count": 31,
   "metadata": {
    "collapsed": false
   },
   "outputs": [
    {
     "name": "stdout",
     "output_type": "stream",
     "text": [
      "[1] 3.141593\n",
      "\n"
     ]
    },
    {
     "data": {
      "text/plain": [
       "<FloatVector - Python:0x7fafbe102988 / R:0x3d2ba78>\n",
       "[4.000000]"
      ]
     },
     "execution_count": 31,
     "metadata": {},
     "output_type": "execute_result"
    }
   ],
   "source": [
    "#However with r\n",
    "print(robjects.r['pi'])"
   ]
  },
  {
   "cell_type": "markdown",
   "metadata": {},
   "source": [
    "### Evaluating R code\n",
    "\n",
    "A benign example"
   ]
  },
  {
   "cell_type": "code",
   "execution_count": 32,
   "metadata": {
    "collapsed": false
   },
   "outputs": [
    {
     "data": {
      "text/plain": [
       "<FloatVector - Python:0x7fafbe0feac8 / R:0x3cc7668>\n",
       "[4.000000]"
      ]
     },
     "execution_count": 32,
     "metadata": {},
     "output_type": "execute_result"
    }
   ],
   "source": [
    "robjects.r('2 + 2')"
   ]
  },
  {
   "cell_type": "markdown",
   "metadata": {},
   "source": [
    "Something more interesting"
   ]
  },
  {
   "cell_type": "code",
   "execution_count": 11,
   "metadata": {
    "collapsed": false
   },
   "outputs": [
    {
     "data": {
      "text/plain": [
       "<FloatVector - Python:0x7f3aa88c6808 / R:0x585c638>\n",
       "[97.409091]"
      ]
     },
     "execution_count": 11,
     "metadata": {},
     "output_type": "execute_result"
    }
   ],
   "source": [
    "robjects.r('''\n",
    "pi_power <- function(x, verbose=FALSE) {\n",
    "        if (verbose) {\n",
    "            cat(\"I am calling pi_power().\\n\")\n",
    "        }\n",
    "        pi ^ x\n",
    "        }\n",
    "        pi_power(4)\n",
    "''')"
   ]
  },
  {
   "cell_type": "markdown",
   "metadata": {},
   "source": [
    "### A subtlety\n",
    "\n",
    "Notice that the _operation_1_ produces a vector while _operation_2_ produces the result of an arithmatic operation "
   ]
  },
  {
   "cell_type": "code",
   "execution_count": 33,
   "metadata": {
    "collapsed": false
   },
   "outputs": [
    {
     "data": {
      "text/plain": [
       "'c(3.14159265358979, 2)'"
      ]
     },
     "execution_count": 33,
     "metadata": {},
     "output_type": "execute_result"
    }
   ],
   "source": [
    "piplus2 = robjects.r('pi') + 2\n",
    "piplus2.r_repr()\n"
   ]
  },
  {
   "cell_type": "code",
   "execution_count": 34,
   "metadata": {
    "collapsed": false
   },
   "outputs": [
    {
     "name": "stdout",
     "output_type": "stream",
     "text": [
      "5.141592653589793\n"
     ]
    }
   ],
   "source": [
    "pi0plus2 = robjects.r('pi')[0] + 2\n",
    "print(pi0plus2)"
   ]
  },
  {
   "cell_type": "markdown",
   "metadata": {
    "collapsed": false
   },
   "source": [
    "## Some data structures in R\n",
    "### Creating Rpy2 vectors"
   ]
  },
  {
   "cell_type": "code",
   "execution_count": 13,
   "metadata": {
    "collapsed": false
   },
   "outputs": [
    {
     "name": "stdout",
     "output_type": "stream",
     "text": [
      "[1] \"abc\" \"def\"\n",
      "\n",
      "c(\"abc\", \"def\")\n"
     ]
    }
   ],
   "source": [
    "res = robjects.StrVector(['abc', 'def'])\n",
    "print(res)\n",
    "print(res.r_repr())\n",
    "#Notice the use of r_repr() and the output below. Looks familiar?"
   ]
  },
  {
   "cell_type": "code",
   "execution_count": 48,
   "metadata": {
    "collapsed": false
   },
   "outputs": [
    {
     "name": "stdout",
     "output_type": "stream",
     "text": [
      "1:3\n",
      "c(1.1, 2.2, 3.3)\n"
     ]
    }
   ],
   "source": [
    "res = robjects.IntVector([1, 2, 3]) \n",
    "print(res.r_repr()) \n",
    "res = robjects.FloatVector([1.1, 2.2, 3.3]) \n",
    "print(res.r_repr())"
   ]
  },
  {
   "cell_type": "markdown",
   "metadata": {},
   "source": [
    "Recall: Now look back at the _A subtlety_ section above for adding elements to a vector"
   ]
  },
  {
   "cell_type": "markdown",
   "metadata": {},
   "source": [
    "### Matrices\n",
    "\n",
    "A Matrix is a special case of Array/ Rpy2 vector. It is essentially just a vector with dimension attributes (number of rows, number of columns)."
   ]
  },
  {
   "cell_type": "code",
   "execution_count": 14,
   "metadata": {
    "collapsed": false
   },
   "outputs": [
    {
     "name": "stdout",
     "output_type": "stream",
     "text": [
      "     [,1] [,2]\n",
      "[1,]    1    3\n",
      "[2,]    2    4\n",
      "\n"
     ]
    }
   ],
   "source": [
    "m = robjects.r.matrix(robjects.IntVector(range(4)), nrow=2)\n",
    "print(m.ro + 1)"
   ]
  },
  {
   "cell_type": "markdown",
   "metadata": {},
   "source": [
    "### Data Frames"
   ]
  },
  {
   "cell_type": "markdown",
   "metadata": {},
   "source": [
    "Creating an DataFrame can be done by:\n",
    "\n",
    "- Using the constructor for the class\n",
    "- Create the data.frame through R\n",
    "- Read data from a file using the instance method from_csvfile()\n"
   ]
  },
  {
   "cell_type": "code",
   "execution_count": 15,
   "metadata": {
    "collapsed": false
   },
   "outputs": [
    {
     "name": "stdout",
     "output_type": "stream",
     "text": [
      "data frame with 0 columns and 0 rows\n",
      "\n",
      "  letter value\n",
      "1      x     1\n",
      "2      y     2\n",
      "3      z     3\n",
      "\n",
      "  value letter\n",
      "1     1      x\n",
      "2     2      y\n",
      "3     3      z\n",
      "\n"
     ]
    }
   ],
   "source": [
    "#empty data frame\n",
    "dataf = robjects.DataFrame({})\n",
    "print(dataf.ro + 1)\n",
    "\n",
    "'''data.frame with 2 two columns (not that the order of the columns in the resulting DataFrame \n",
    "can be different from the order in which they are declared) '''\n",
    "\n",
    "d = {'value': robjects.IntVector((1,2,3)), 'letter': robjects.StrVector(('x', 'y', 'z'))}\n",
    "dataf = robjects.DataFrame(d)\n",
    "print(dataf)\n",
    "\n",
    "\n",
    "'''We can use an ordered dictionary to comeover this issue, if we so wish'''\n",
    "import rpy2.rlike.container as rlc\n",
    "od = rlc.OrdDict([('value', robjects.IntVector((1,2,3))),\n",
    "                      ('letter', robjects.StrVector(('x', 'y', 'z')))])\n",
    "dataf = robjects.DataFrame(od)\n",
    "print(dataf)"
   ]
  },
  {
   "cell_type": "markdown",
   "metadata": {},
   "source": [
    "### Calling R functions"
   ]
  },
  {
   "cell_type": "code",
   "execution_count": 16,
   "metadata": {
    "collapsed": false
   },
   "outputs": [
    {
     "name": "stdout",
     "output_type": "stream",
     "text": [
      "function (..., na.rm = FALSE)  .Primitive(\"sum\")\n",
      "\n"
     ]
    }
   ],
   "source": [
    "rsum = robjects.r['sum'] \n",
    "print(rsum)\n",
    "rsum(robjects.IntVector([1,2,3, robjects.NA_Integer]), na_rm = True)[0] "
   ]
  },
  {
   "cell_type": "markdown",
   "metadata": {
    "collapsed": true
   },
   "source": [
    "## Conclusion - Online example\n",
    "\n",
    "I found an excellent [demonstration](http://www.r-bloggers.com/ggplot2-in-python-a-major-barrier-broken/) of Rpy2 for a purpose I truly believe is better served in R than python - Plotting. I urge you to read the link as the author succintly justifies the need to use R."
   ]
  },
  {
   "cell_type": "code",
   "execution_count": 17,
   "metadata": {
    "collapsed": false
   },
   "outputs": [
    {
     "name": "stdout",
     "output_type": "stream",
     "text": [
      "          x          y\n",
      "0  3.295511   3.199273\n",
      "1  3.204440   3.775582\n",
      "2  6.538979  10.122847\n",
      "3  5.481967   1.176281\n",
      "4  2.126166   1.343560\n",
      "5  5.450126   5.545861\n",
      "6  4.552411   6.335435\n",
      "7  6.066880   7.215155\n",
      "8  4.411735   3.960410\n",
      "9  3.717540   1.206754\n",
      "\n"
     ]
    },
    {
     "data": {
      "text/plain": [
       "rpy2.rinterface.NULL"
      ]
     },
     "execution_count": 17,
     "metadata": {},
     "output_type": "execute_result"
    }
   ],
   "source": [
    "# Import the necessary modules\n",
    "import numpy as np\n",
    "import pandas as pd\n",
    "import rpy2.robjects as robj\n",
    "import rpy2.robjects.pandas2ri # for dataframe conversion\n",
    "from rpy2.robjects.packages import importr\n",
    " \n",
    "# First, make some random data\n",
    "x = np.random.normal(loc = 5, scale = 2, size = 10)\n",
    "y = x + np.random.normal(loc = 0, scale = 2, size = 10)\n",
    " \n",
    "# Make these into a pandas dataframe. I do this because\n",
    "# more often than not, I read in a pandas dataframe, so this\n",
    "# shows how to use a pandas dataframe to plot in ggplot\n",
    "testData = pd.DataFrame( {'x':x, 'y':y} )\n",
    "# it looks just like a dataframe from R\n",
    "print(testData)\n",
    " \n",
    "# Next, you make an robject containing function that makes the plot.\n",
    "# the language in the function is pure R, so it can be anything\n",
    "# note that the R environment is blank to start, so ggplot2 has to be\n",
    "# loaded\n",
    "plotFunc = robj.r(\"\"\"\n",
    " library(ggplot2)\n",
    " \n",
    "function(df){\n",
    " p <- ggplot(df, aes(x, y)) +\n",
    " geom_point( )\n",
    " \n",
    "print(p)\n",
    " }\n",
    "\"\"\")\n",
    " \n",
    "# import graphics devices. This is necessary to shut the graph off\n",
    "# otherwise it just hangs and freezes python\n",
    "gr = importr('grDevices')\n",
    " \n",
    "# convert the testData to an R dataframe\n",
    "robj.pandas2ri.activate()\n",
    "testData_R = robj.conversion.py2ri(testData)\n",
    " \n",
    "# run the plot function on the dataframe\n",
    "plotFunc(testData_R)\n",
    " \n",
    "# ask for input. This requires you to press enter, otherwise the plot\n",
    "# window closes immediately\n",
    "input()\n",
    " \n",
    "# shut down the window using dev_off()\n",
    "gr.dev_off()\n",
    " \n",
    "# you can even save the output once you like it\n",
    "plotFunc_2 = robj.r(\"\"\"\n",
    " library(ggplot2)\n",
    " \n",
    "function(df){\n",
    " p <- ggplot(df, aes(x, y)) +\n",
    " geom_point( ) +\n",
    " theme(\n",
    " panel.background = element_rect(fill = NA, color = 'black')\n",
    " )\n",
    " \n",
    "ggsave('rpy2_magic.pdf', plot = p, width = 6.5, height = 5.5)\n",
    " }\n",
    "\"\"\")\n",
    " \n",
    "plotFunc_2(testData_R)"
   ]
  },
  {
   "cell_type": "code",
   "execution_count": null,
   "metadata": {
    "collapsed": true
   },
   "outputs": [],
   "source": []
  }
 ],
 "metadata": {
  "kernelspec": {
   "display_name": "Python 3",
   "language": "python",
   "name": "python3"
  },
  "language_info": {
   "codemirror_mode": {
    "name": "ipython",
    "version": 3
   },
   "file_extension": ".py",
   "mimetype": "text/x-python",
   "name": "python",
   "nbconvert_exporter": "python",
   "pygments_lexer": "ipython3",
   "version": "3.5.1+"
  }
 },
 "nbformat": 4,
 "nbformat_minor": 0
}
